{
 "cells": [
  {
   "cell_type": "code",
   "execution_count": 1,
   "metadata": {},
   "outputs": [],
   "source": [
    "%load_ext autoreload\n",
    "%autoreload"
   ]
  },
  {
   "cell_type": "code",
   "execution_count": 31,
   "metadata": {},
   "outputs": [
    {
     "name": "stdout",
     "output_type": "stream",
     "text": [
      "exps/semcor\n",
      "WARNING: Logging before flag parsing goes to stderr.\n",
      "W0911 21:24:13.157232 140530356447040 deprecation_wrapper.py:119] From /home/fredguth/Code/eacl2017_mtl/rnn_mtl/src/mtl_model.py:5: The name tf.train.RMSPropOptimizer is deprecated. Please use tf.compat.v1.train.RMSPropOptimizer instead.\n",
      "\n",
      "W0911 21:24:13.157377 140530356447040 deprecation_wrapper.py:119] From /home/fredguth/Code/eacl2017_mtl/rnn_mtl/src/mtl_model.py:6: The name tf.train.AdadeltaOptimizer is deprecated. Please use tf.compat.v1.train.AdadeltaOptimizer instead.\n",
      "\n",
      "W0911 21:24:13.157442 140530356447040 deprecation_wrapper.py:119] From /home/fredguth/Code/eacl2017_mtl/rnn_mtl/src/mtl_model.py:7: The name tf.train.AdagradOptimizer is deprecated. Please use tf.compat.v1.train.AdagradOptimizer instead.\n",
      "\n",
      "W0911 21:24:13.157501 140530356447040 deprecation_wrapper.py:119] From /home/fredguth/Code/eacl2017_mtl/rnn_mtl/src/mtl_model.py:8: The name tf.train.MomentumOptimizer is deprecated. Please use tf.compat.v1.train.MomentumOptimizer instead.\n",
      "\n",
      "hey\n",
      "readings tasks\n",
      "Loading embeddings... Done!\n",
      "Reading data... Traceback (most recent call last):\n",
      "  File \"src/experiment.py\", line 421, in <module>\n",
      "    main(_args)\n",
      "  File \"src/experiment.py\", line 358, in main\n",
      "    output_mappings=output_mapping)\n",
      "  File \"/home/fredguth/Code/eacl2017_mtl/rnn_mtl/src/dio.py\", line 370, in read_data\n",
      "    inputs, outputs = zip(*list(read_two_cols_data(source)))\n",
      "  File \"/home/fredguth/Code/eacl2017_mtl/rnn_mtl/src/dio.py\", line 242, in read_two_cols_data\n",
      "    for line in open(fname):\n",
      "FileNotFoundError: [Errno 2] No such file or directory: 'data/eng_semcor_train.conll'\n"
     ]
    }
   ],
   "source": [
    "! bash run.sh semcor 1 50000"
   ]
  },
  {
   "cell_type": "markdown",
   "metadata": {},
   "source": [
    "## Framenet 1.5"
   ]
  },
  {
   "cell_type": "code",
   "execution_count": 2,
   "metadata": {},
   "outputs": [
    {
     "name": "stdout",
     "output_type": "stream",
     "text": [
      "Collecting pyfn\n",
      "\u001b[?25l  Downloading https://files.pythonhosted.org/packages/00/84/6c63afd14b06caecd8a21527d1e30240431c9675b8b6ad30287ed71a16c7/pyfn-1.3.7.tar.gz (45kB)\n",
      "\u001b[K     |████████████████████████████████| 51kB 749kB/s eta 0:00:01\n",
      "\u001b[?25hRequirement already satisfied: pyyaml>=4.2b1 in /home/fredguth/anaconda3/envs/tf/lib/python3.7/site-packages (from pyfn) (5.1.2)\n",
      "Collecting mmh3>=2.5.1 (from pyfn)\n",
      "  Downloading https://files.pythonhosted.org/packages/fa/7e/3ddcab0a9fcea034212c02eb411433db9330e34d626360b97333368b4052/mmh3-2.5.1.tar.gz\n",
      "Collecting lxml>=4.3.0 (from pyfn)\n",
      "\u001b[?25l  Downloading https://files.pythonhosted.org/packages/e7/a8/40115c84414c017e1a293f331709eb7534303d3ccd11ef805ac09b1481e7/lxml-4.4.1-cp37-cp37m-manylinux1_x86_64.whl (5.7MB)\n",
      "\u001b[K     |████████████████████████████████| 5.8MB 2.3MB/s eta 0:00:01\n",
      "\u001b[?25hCollecting pytz>=2018.7 (from pyfn)\n",
      "\u001b[?25l  Downloading https://files.pythonhosted.org/packages/87/76/46d697698a143e05f77bec5a526bf4e56a0be61d63425b68f4ba553b51f2/pytz-2019.2-py2.py3-none-any.whl (508kB)\n",
      "\u001b[K     |████████████████████████████████| 512kB 9.9MB/s eta 0:00:01\n",
      "\u001b[?25hBuilding wheels for collected packages: pyfn, mmh3\n",
      "  Building wheel for pyfn (setup.py) ... \u001b[?25ldone\n",
      "\u001b[?25h  Created wheel for pyfn: filename=pyfn-1.3.7-cp37-none-any.whl size=46321 sha256=349922a96461440d0144bf2702219964ca03940dd4046e57c8ad8c3c1b7e3346\n",
      "  Stored in directory: /home/fredguth/.cache/pip/wheels/3e/13/0b/92ead83260006d468fe43a2f6f4c2d4f8faea767b9cc9dd50f\n",
      "  Building wheel for mmh3 (setup.py) ... \u001b[?25ldone\n",
      "\u001b[?25h  Created wheel for mmh3: filename=mmh3-2.5.1-cp37-cp37m-linux_x86_64.whl size=39731 sha256=4eca124dae98cebec2e2c4a68db8377e6715d57b8d43e6a1fc7ed3fbdecf9233\n",
      "  Stored in directory: /home/fredguth/.cache/pip/wheels/38/b4/ea/6e4e321c625d3320c0c496bf4088371546d8fce5f1dd71b219\n",
      "Successfully built pyfn mmh3\n",
      "Installing collected packages: mmh3, lxml, pytz, pyfn\n",
      "Successfully installed lxml-4.4.1 mmh3-2.5.1 pyfn-1.3.7 pytz-2019.2\n"
     ]
    }
   ],
   "source": [
    "! pip install pyfn"
   ]
  },
  {
   "cell_type": "code",
   "execution_count": 7,
   "metadata": {},
   "outputs": [
    {
     "name": "stdout",
     "output_type": "stream",
     "text": [
      "--2019-09-11 20:24:35--  http://129.194.21.122/~kabbach/pyfn/data.7z\n",
      "Connecting to 129.194.21.122:80... connected.\n",
      "HTTP request sent, awaiting response... 200 OK\n",
      "Length: 79554968 (76M) [application/x-7z-compressed]\n",
      "Saving to: ‘data.7z’\n",
      "\n",
      "data.7z             100%[===================>]  75.87M  5.49MB/s    in 16s     \n",
      "\n",
      "2019-09-11 20:24:52 (4.64 MB/s) - ‘data.7z’ saved [79554968/79554968]\n",
      "\n"
     ]
    }
   ],
   "source": [
    "! wget http://129.194.21.122/~kabbach/pyfn/data.7z"
   ]
  },
  {
   "cell_type": "code",
   "execution_count": 8,
   "metadata": {},
   "outputs": [],
   "source": [
    "! mv data.7z data/"
   ]
  },
  {
   "cell_type": "code",
   "execution_count": 9,
   "metadata": {},
   "outputs": [
    {
     "name": "stdout",
     "output_type": "stream",
     "text": [
      "\n",
      "7-Zip (a) [64] 16.02 : Copyright (c) 1999-2016 Igor Pavlov : 2016-05-21\n",
      "p7zip Version 16.02 (locale=en_US.UTF-8,Utf16=on,HugeFiles=on,64 bits,8 CPUs Intel(R) Core(TM) i7-4790 CPU @ 3.60GHz (306C3),ASM,AES-NI)\n",
      "\n",
      "Scanning the drive for archives:\n",
      "  0M Sca        1 file, 79554968 bytes (76 MiB)\n",
      "\n",
      "Extracting archive: data/data.7z\n",
      "--\n",
      "Path = data/data.7z\n",
      "Type = 7z\n",
      "Physical Size = 79554968\n",
      "Headers Size = 225499\n",
      "Method = LZMA2:26\n",
      "Solid = +\n",
      "Blocks = 1\n",
      "\n"
     ]
    },
    {
     "name": "stdout",
     "output_type": "stream",
     "text": [
      "      0% 754 - data/fndata-1.5-with-dev/frame/Preventing.x                                                        2% 1098 - data/fndata-1.5-with-dev/train . t/NTI__BWTutorial_chapter1.xm                                                                            5% 1633 - data/fndata-1.5-with-dev/train/lu/lu10629.xm                                                          6% 2146 - data/fndata-1.5-with-dev/train/lu/lu1132.x                                                        7% 2499 - data/fndata-1.5-with-dev/train/lu/lu11804.xm                                                          8% 2831 - data/fndata-1.5-with-dev/train/lu/lu12180.xm                                                          9% 3047 - data/fndata-1.5-with-dev/train/lu/lu12450.xm                                                         10% 3281 - data/fndata-1.5-with-dev/train/lu/lu12686.xm                                                         10% 3525 - data/fndata-1.5-with-dev/train/lu/lu12952.xm                                                         11% 3730 - data/fndata-1.5-with-dev/train/lu/lu13175.xm                                                         11% 3940 - data/fndata-1.5-with-dev/train/lu/lu13412.xm                                                         11% 4158 - data/fndata-1.5-with-dev/train/lu/lu13661.xm                                                         11% 4375 - data/fndata-1.5-with-dev/train/lu/lu1393.x                                                       12% 4568 - data/fndata-1.5-with-dev/train/lu/lu14159.xm                                                         12% 4757 - data/fndata-1.5-with-dev/train/lu/lu14376.xm                                                         12% 4947 - data/fndata-1.5-with-dev/train/lu/lu14663.xm                                                         12% 5111 - data/fndata-1.5-with-dev/train/lu/lu14853.xm                                                         12% 5284 - data/fndata-1.5-with-dev/train/lu/lu15073.xm                                                         13% 5428 - data/fndata-1.5-with-dev/train/lu/lu15316.xm                                                         13% 5552 - data/fndata-1.5-with-dev/train/lu/lu15503.xm                                                         13% 5690 - data/fndata-1.5-with-dev/train/lu/lu15657.xm                                                         13% 5825 - data/fndata-1.5-with-dev/train/lu/lu1585.x                                                       14% 5958 - data/fndata-1.5-with-dev/train/lu/lu1612.x                                                       14% 6069 - data/fndata-1.5-with-dev/train/lu/lu1734.x                                                       15% 6176 - data/fndata-1.5-with-dev/train/lu/lu1914.x                                                       16% 6287 - data/fndata-1.5-with-dev/train/lu/lu2060.x                                                       16% 6393 - data/fndata-1.5-with-dev/train/lu/lu2184.x                                                       17% 6502 - data/fndata-1.5-with-dev/train/lu/lu2308.x                                                       17% 6605 - data/fndata-1.5-with-dev/train/lu/lu2415.x                                                       18% 6702 - data/fndata-1.5-with-dev/train/lu/lu2512.x                                                       18% 6801 - data/fndata-1.5-with-dev/train/lu/lu2619.x                                                       19% 6897 - data/fndata-1.5-with-dev/train/lu/lu2718.x                                                       20% 6993 - data/fndata-1.5-with-dev/train/lu/lu2839.x                                                       20% 7089 - data/fndata-1.5-with-dev/train/lu/lu2944.x                                                       20% 7177 - data/fndata-1.5-with-dev/train/lu/lu3059.x                                                       21% 7273 - data/fndata-1.5-with-dev/train/lu/lu3160.x                                                       21% 7368 - data/fndata-1.5-with-dev/train/lu/lu326.xm                                                       21% 7460 - data/fndata-1.5-with-dev/train/lu/lu3375.x                                                       22% 7546 - data/fndata-1.5-with-dev/train/lu/lu3464.x                                                       22% 7638 - data/fndata-1.5-with-dev/train/lu/lu3556.x                                                       22% 7733 - data/fndata-1.5-with-dev/train/lu/lu365.xm                                                       23% 7810 - data/fndata-1.5-with-dev/train/lu/lu3725.x                                                       23% 7902 - data/fndata-1.5-with-dev/train/lu/lu3820.x                                                       23% 7990 - data/fndata-1.5-with-dev/train/lu/lu3928.x                                                       24% 8068 - data/fndata-1.5-with-dev/train/lu/lu4009.x                                                       24% 8156 - data/fndata-1.5-with-dev/train/lu/lu4120.x                                                       24% 8247 - data/fndata-1.5-with-dev/train/lu/lu422.xm                                                       24% 8334 - data/fndata-1.5-with-dev/train/lu/lu4312.x                                                       24% 8421 - data/fndata-1.5-with-dev/train/lu/lu4410.x                                                       25% 8497 - data/fndata-1.5-with-dev/train/lu/lu4508.x                                                       25% 8572 - data/fndata-1.5-with-dev/train/lu/lu4584.x                                                       25% 8649 - data/fndata-1.5-with-dev/train/lu/lu4670.x                                                       25% 8718 - data/fndata-1.5-with-dev/train/lu/lu4770.x                                                       25% 8794 - data/fndata-1.5-with-dev/train/lu/lu4851.x                                                       25% 8864 - data/fndata-1.5-with-dev/train/lu/lu4939.x                                                       26% 8934 - data/fndata-1.5-with-dev/train/lu/lu5015.x                                                       26% 9005 - data/fndata-1.5-with-dev/train/lu/lu5097.x                                                       26% 9073 - data/fndata-1.5-with-dev/train/lu/lu5181.x                                                       27% 9150 - data/fndata-1.5-with-dev/train/lu/lu5265.x                                                       27% 9236 - data/fndata-1.5-with-dev/train/lu/lu5356.x                                                       27% 9314 - data/fndata-1.5-with-dev/train/lu/lu5430.x                                                       27% 9385 - data/fndata-1.5-with-dev/train/lu/lu5502.x                                                       27% 9462 - data/fndata-1.5-with-dev/train/lu/lu559.xm                                                       28% 9536 - data/fndata-1.5-with-dev/train/lu/lu5665.x                                                       28% 9611 - data/fndata-1.5-with-dev/train/lu/lu5748.x                                                       28% 9690 - data/fndata-1.5-with-dev/train/lu/lu5829.x                                                       29% 9757 - data/fndata-1.5-with-dev/train/lu/lu590.xm                                                       29% 9819 - data/fndata-1.5-with-dev/train/lu/lu5963.x                                                       29% 9886 - data/fndata-1.5-with-dev/train/lu/lu6028.x                                                       30% 9952 - data/fndata-1.5-with-dev/train/lu/lu6090.x                                                       30% 10030 - data/fndata-1.5-with-dev/train/lu/lu6174.xm                                                         30% 10097 - data/fndata-1.5-with-dev/train/lu/lu6242.xm                                                         30% 10163 - data/fndata-1.5-with-dev/train/lu/lu6311.xm                                                         31% 10224 - data/fndata-1.5-with-dev/train/lu/lu6368.xm                                                         31% 10283 - data/fndata-1.5-with-dev/train/lu/lu6422.xm                                                         31% 10344 - data/fndata-1.5-with-dev/train/lu/lu6484.xml"
     ]
    },
    {
     "name": "stdout",
     "output_type": "stream",
     "text": [
      "\b                                                         32% 10410 - data/fndata-1.5-with-dev/train/lu/lu6550.xm                                                         32% 10472 - data/fndata-1.5-with-dev/train/lu/lu6610.xm                                                         32% 10530 - data/fndata-1.5-with-dev/train/lu/lu6670.xm                                                         33% 10593 - data/fndata-1.5-with-dev/train/lu/lu675.x                                                       33% 10653 - data/fndata-1.5-with-dev/train/lu/lu6863.xm                                                         33% 10715 - data/fndata-1.5-with-dev/train/lu/lu6941.xm                                                         33% 10778 - data/fndata-1.5-with-dev/train/lu/lu7001.xm                                                         33% 10840 - data/fndata-1.5-with-dev/train/lu/lu7072.xm                                                         34% 10903 - data/fndata-1.5-with-dev/train/lu/lu7131.xm                                                         34% 10971 - data/fndata-1.5-with-dev/train/lu/lu7197.xm                                                         34% 11035 - data/fndata-1.5-with-dev/train/lu/lu7262.xm                                                         34% 11097 - data/fndata-1.5-with-dev/train/lu/lu7323.xm                                                         35% 11157 - data/fndata-1.5-with-dev/train/lu/lu7394.xm                                                         35% 11219 - data/fndata-1.5-with-dev/train/lu/lu7464.xm                                                         35% 11277 - data/fndata-1.5-with-dev/train/lu/lu7523.xm                                                         35% 11335 - data/fndata-1.5-with-dev/train/lu/lu7583.xm                                                         35% 11395 - data/fndata-1.5-with-dev/train/lu/lu7643.xm                                                         36% 11451 - data/fndata-1.5-with-dev/train/lu/lu7698.xm                                                         36% 11514 - data/fndata-1.5-with-dev/train/lu/lu7761.xm                                                         36% 11574 - data/fndata-1.5-with-dev/train/lu/lu7820.xm                                                         36% 11634 - data/fndata-1.5-with-dev/train/lu/lu7946.xm                                                         36% 11691 - data/fndata-1.5-with-dev/train/lu/lu8000.xm                                                         37% 11753 - data/fndata-1.5-with-dev/train/lu/lu8065.xm                                                         37% 11819 - data/fndata-1.5-with-dev/train/lu/lu8143.xm                                                         37% 11882 - data/fndata-1.5-with-dev/train/lu/lu8203.xm                                                         37% 11937 - data/fndata-1.5-with-dev/train/lu/lu8292.xm                                                         37% 11997 - data/fndata-1.5-with-dev/train/lu/lu8423.xm                                                         37% 12055 - data/fndata-1.5-with-dev/train/lu/lu8550.xm                                                         37% 12121 - data/fndata-1.5-with-dev/train/lu/lu8693.xm                                                         38% 12181 - data/fndata-1.5-with-dev/train/lu/lu8780.xm                                                         38% 12239 - data/fndata-1.5-with-dev/train/lu/lu8855.xm                                                         38% 12291 - data/fndata-1.5-with-dev/train/lu/lu893.x                                                       38% 12342 - data/fndata-1.5-with-dev/train/lu/lu8983.xm                                                         38% 12396 - data/fndata-1.5-with-dev/train/lu/lu9032.xm                                                         39% 12435 - data/fndata-1.5-with-dev/train/lu/lu907.x                                                       39% 12482 - data/fndata-1.5-with-dev/train/lu/lu9124.xm                                                         39% 12522 - data/fndata-1.5-with-dev/train/lu/lu9180.xm                                                         39% 12571 - data/fndata-1.5-with-dev/train/lu/lu9250.xm                                                         39% 12625 - data/fndata-1.5-with-dev/train/lu/lu937.x                                                       39% 12684 - data/fndata-1.5-with-dev/train/lu/lu955.x                                                       40% 12738 - data/fndata-1.5-with-dev/train/lu/lu9655.xm                                                         40% 12791 - data/fndata-1.5-with-dev/train/lu/lu9713.xm                                                         40% 12842 - data/fndata-1.5-with-dev/train/lu/lu9776.xm                                                         41% 12893 - data/fndata-1.5-with-dev/train/lu/lu9838.xm                                                         41% 12948 - data/fndata-1.5-with-dev/train/lu/lu9983.xm                                                         42% 13526 - data/fndata-1.7-with-dev/frame/Hindering.xm                                                         42% 14073 - data/fndata-1.7-with-dev/frame/Taking_captive.x                                                             45% 14236 - data/fndata-1.7-with-dev/train/fulltext/Miscellaneous__C-4Text.xm                                                                               47% 14561 - data/fndata-1.7-with-dev/train/lu/lu10329.x                                                         50% 14935 - data/fndata-1.7-with-dev/train/lu/lu10808.x                                                         51% 15313 - data/fndata-1.7-with-dev/train/lu/lu11352.x                                                         53% 15587 - data/fndata-1.7-with-dev/train/lu/lu1175.xm                                                         54% 15891 - data/fndata-1.7-with-dev/train/lu/lu12099.x                                                         56% 16123 - data/fndata-1.7-with-dev/train/lu/lu12373.x                                                         57% 16356 - data/fndata-1.7-with-dev/train/lu/lu12630.x                                                         57% 16589 - data/fndata-1.7-with-dev/train/lu/lu12888.x                                                         58% 16809 - data/fndata-1.7-with-dev/train/lu/lu13136.x                                                         58% 16965 - data/fndata-1.7-with-dev/train/lu/lu13316.x                                                         59% 17172 - data/fndata-1.7-with-dev/train/lu/lu13552.x                                                         59% 17383 - data/fndata-1.7-with-dev/train/lu/lu1382.xm                                                         60% 17569 - data/fndata-1.7-with-dev/train/lu/lu14050.x                                                         60% 17741 - data/fndata-1.7-with-dev/train/lu/lu14258.x                                                         60% 17905 - data/fndata-1.7-with-dev/train/lu/lu14461.x                                                         61% 18075 - data/fndata-1.7-with-dev/train/lu/lu14713.x                                                         61% 18226 - data/fndata-1.7-with-dev/train/lu/lu14901.x                                                         61% 18366 - data/fndata-1.7-with-dev/train/lu/lu1508.xm                                                         62% 18507 - data/fndata-1.7-with-dev/train/lu/lu15326.x                                                         62% 18629 - data/fndata-1.7-with-dev/train/lu/lu15522.x                                                         63% 18761 - data/fndata-1.7-with-dev/train/lu/lu15666.x                                                         63% 18890 - data/fndata-1.7-with-dev/train/lu/lu15872.x                                                         63% 19002 - data/fndata-1.7-with-dev/train/lu/lu1604.xm                                                         64% 19116 - data/fndata-1.7-with-dev/train/lu/lu16255.x                                                         64% 19235 - data/fndata-1.7-with-dev/train/lu/lu16417.xml"
     ]
    },
    {
     "name": "stdout",
     "output_type": "stream",
     "text": [
      "                                                         65% 19350 - data/fndata-1.7-with-dev/train/lu/lu16535.x                                                         65% 19452 - data/fndata-1.7-with-dev/train/lu/lu16656.x                                                         65% 19558 - data/fndata-1.7-with-dev/train/lu/lu16780.x                                                         65% 19659 - data/fndata-1.7-with-dev/train/lu/lu16897.x                                                         66% 19756 - data/fndata-1.7-with-dev/train/lu/lu170.x                                                       66% 19862 - data/fndata-1.7-with-dev/train/lu/lu17131.x                                                         66% 19962 - data/fndata-1.7-with-dev/train/lu/lu1727.xm                                                         67% 20067 - data/fndata-1.7-with-dev/train/lu/lu17411.x                                                         67% 20180 - data/fndata-1.7-with-dev/train/lu/lu17542.x                                                         67% 20292 - data/fndata-1.7-with-dev/train/lu/lu17670.x                                                         67% 20362 - data/fndata-1.7-with-dev/train/lu/lu1780.xm                                                         67% 20431 - data/fndata-1.7-with-dev/train/lu/lu17872.x                                                         68% 20519 - data/fndata-1.7-with-dev/train/lu/lu17967.x                                                         68% 20609 - data/fndata-1.7-with-dev/train/lu/lu1810.xm                                                         68% 20701 - data/fndata-1.7-with-dev/train/lu/lu18256.x                                                         68% 20781 - data/fndata-1.7-with-dev/train/lu/lu18350.x                                                         68% 20873 - data/fndata-1.7-with-dev/train/lu/lu18501.x                                                         68% 20956 - data/fndata-1.7-with-dev/train/lu/lu18618.x                                                         68% 21046 - data/fndata-1.7-with-dev/train/lu/lu18732.x                                                         69% 21123 - data/fndata-1.7-with-dev/train/lu/lu1881.xm                                                         69% 21198 - data/fndata-1.7-with-dev/train/lu/lu1970.xm                                                         70% 21277 - data/fndata-1.7-with-dev/train/lu/lu2071.xm                                                         70% 21362 - data/fndata-1.7-with-dev/train/lu/lu2177.xm                                                         71% 21439 - data/fndata-1.7-with-dev/train/lu/lu2268.xm                                                         71% 21517 - data/fndata-1.7-with-dev/train/lu/lu2343.xm                                                         72% 21593 - data/fndata-1.7-with-dev/train/lu/lu2427.xm                                                         72% 21677 - data/fndata-1.7-with-dev/train/lu/lu2510.xm                                                         73% 21749 - data/fndata-1.7-with-dev/train/lu/lu2588.xm                                                         73% 21834 - data/fndata-1.7-with-dev/train/lu/lu2676.xm                                                         73% 21917 - data/fndata-1.7-with-dev/train/lu/lu2772.xm                                                         74% 21992 - data/fndata-1.7-with-dev/train/lu/lu2866.xm                                                         75% 22072 - data/fndata-1.7-with-dev/train/lu/lu2971.xm                                                         75% 22143 - data/fndata-1.7-with-dev/train/lu/lu3052.xm                                                         75% 22198 - data/fndata-1.7-with-dev/train/lu/lu3111.xm                                                         75% 22276 - data/fndata-1.7-with-dev/train/lu/lu3192.xm                                                         76% 22349 - data/fndata-1.7-with-dev/train/lu/lu3266.xm                                                         76% 22425 - data/fndata-1.7-with-dev/train/lu/lu3367.xm                                                         76% 22500 - data/fndata-1.7-with-dev/train/lu/lu3443.xm                                                         77% 22571 - data/fndata-1.7-with-dev/train/lu/lu3515.xm                                                         77% 22645 - data/fndata-1.7-with-dev/train/lu/lu3590.xm                                                         77% 22716 - data/fndata-1.7-with-dev/train/lu/lu3660.xm                                                         78% 22786 - data/fndata-1.7-with-dev/train/lu/lu3729.xm                                                         78% 22847 - data/fndata-1.7-with-dev/train/lu/lu3793.xm                                                         79% 22871 - data/fndata-1.7-with-dev/train/lu/lu3817.xm                                                         79% 22940 - data/fndata-1.7-with-dev/train/lu/lu3892.xm                                                         79% 23008 - data/fndata-1.7-with-dev/train/lu/lu3973.xm                                                         79% 23084 - data/fndata-1.7-with-dev/train/lu/lu407.x                                                       79% 23158 - data/fndata-1.7-with-dev/train/lu/lu4150.xm                                                         79% 23228 - data/fndata-1.7-with-dev/train/lu/lu4226.xm                                                         80% 23290 - data/fndata-1.7-with-dev/train/lu/lu4292.xm                                                         80% 23363 - data/fndata-1.7-with-dev/train/lu/lu4381.xm                                                         80% 23429 - data/fndata-1.7-with-dev/train/lu/lu4449.xm                                                         80% 23492 - data/fndata-1.7-with-dev/train/lu/lu4530.xm                                                         80% 23563 - data/fndata-1.7-with-dev/train/lu/lu4601.xm                                                         81% 23632 - data/fndata-1.7-with-dev/train/lu/lu469.x                                                       81% 23694 - data/fndata-1.7-with-dev/train/lu/lu4774.xm                                                         81% 23761 - data/fndata-1.7-with-dev/train/lu/lu4847.xm                                                         81% 23824 - data/fndata-1.7-with-dev/train/lu/lu4924.xm                                                         82% 23891 - data/fndata-1.7-with-dev/train/lu/lu4997.xm                                                         82% 23950 - data/fndata-1.7-with-dev/train/lu/lu5071.xm                                                         82% 24006 - data/fndata-1.7-with-dev/train/lu/lu5129.xm                                                         82% 24066 - data/fndata-1.7-with-dev/train/lu/lu5210.xm                                                         83% 24131 - data/fndata-1.7-with-dev/train/lu/lu5280.xm                                                         83% 24195 - data/fndata-1.7-with-dev/train/lu/lu5346.xm                                                         83% 24254 - data/fndata-1.7-with-dev/train/lu/lu5406.xm                                                         83% 24316 - data/fndata-1.7-with-dev/train/lu/lu5466.xm                                                         84% 24369 - data/fndata-1.7-with-dev/train/lu/lu5532.xm                                                         84% 24436 - data/fndata-1.7-with-dev/train/lu/lu5603.xm                                                         84% 24501 - data/fndata-1.7-with-dev/train/lu/lu5665.xm                                                         84% 24564 - data/fndata-1.7-with-dev/train/lu/lu5736.xm                                                         84% 24626 - data/fndata-1.7-with-dev/train/lu/lu5802.xm                                                         85% 24689 - data/fndata-1.7-with-dev/train/lu/lu5862.xm                                                         85% 24746 - data/fndata-1.7-with-dev/train/lu/lu593.x                                                       85% 24809 - data/fndata-1.7-with-dev/train/lu/lu5992.xml"
     ]
    },
    {
     "name": "stdout",
     "output_type": "stream",
     "text": [
      "\b                                                         86% 24872 - data/fndata-1.7-with-dev/train/lu/lu6052.xm                                                         86% 24936 - data/fndata-1.7-with-dev/train/lu/lu6111.xm                                                         86% 24999 - data/fndata-1.7-with-dev/train/lu/lu6184.xm                                                         87% 25063 - data/fndata-1.7-with-dev/train/lu/lu6248.xm                                                         87% 25123 - data/fndata-1.7-with-dev/train/lu/lu6311.xm                                                         87% 25173 - data/fndata-1.7-with-dev/train/lu/lu6358.xm                                                         87% 25234 - data/fndata-1.7-with-dev/train/lu/lu6414.xm                                                         88% 25295 - data/fndata-1.7-with-dev/train/lu/lu6475.xm                                                         88% 25352 - data/fndata-1.7-with-dev/train/lu/lu6533.xm                                                         89% 25397 - data/fndata-1.7-with-dev/train/lu/lu6579.xm                                                         89% 25454 - data/fndata-1.7-with-dev/train/lu/lu6634.xm                                                         89% 25510 - data/fndata-1.7-with-dev/train/lu/lu670.x                                                       90% 25562 - data/fndata-1.7-with-dev/train/lu/lu6774.xm                                                         90% 25614 - data/fndata-1.7-with-dev/train/lu/lu6895.xm                                                         90% 25668 - data/fndata-1.7-with-dev/train/lu/lu6952.xm                                                         90% 25725 - data/fndata-1.7-with-dev/train/lu/lu7009.xm                                                         90% 25774 - data/fndata-1.7-with-dev/train/lu/lu7066.xm                                                         90% 25830 - data/fndata-1.7-with-dev/train/lu/lu7125.xm                                                         91% 25882 - data/fndata-1.7-with-dev/train/lu/lu7175.xm                                                         91% 25931 - data/fndata-1.7-with-dev/train/lu/lu7222.xm                                                         91% 25977 - data/fndata-1.7-with-dev/train/lu/lu7272.xm                                                         91% 26028 - data/fndata-1.7-with-dev/train/lu/lu7320.xm                                                         92% 26075 - data/fndata-1.7-with-dev/train/lu/lu7372.xm                                                         92% 26122 - data/fndata-1.7-with-dev/train/lu/lu7434.xm                                                         92% 26170 - data/fndata-1.7-with-dev/train/lu/lu7481.xm                                                         92% 26217 - data/fndata-1.7-with-dev/train/lu/lu753.x                                                       93% 26266 - data/fndata-1.7-with-dev/train/lu/lu7580.xm                                                         93% 26314 - data/fndata-1.7-with-dev/train/lu/lu7626.xm                                                         93% 26359 - data/fndata-1.7-with-dev/train/lu/lu7673.xm                                                         93% 26413 - data/fndata-1.7-with-dev/train/lu/lu7732.xm                                                         94% 26460 - data/fndata-1.7-with-dev/train/lu/lu7781.xm                                                         94% 26507 - data/fndata-1.7-with-dev/train/lu/lu7828.xm                                                         94% 26555 - data/fndata-1.7-with-dev/train/lu/lu7941.xm                                                         94% 26608 - data/fndata-1.7-with-dev/train/lu/lu7994.xm                                                         95% 26655 - data/fndata-1.7-with-dev/train/lu/lu8045.xm                                                         95% 26708 - data/fndata-1.7-with-dev/train/lu/lu8120.xm                                                         95% 26763 - data/fndata-1.7-with-dev/train/lu/lu8177.xm                                                         95% 26812 - data/fndata-1.7-with-dev/train/lu/lu823.x                                                       95% 26863 - data/fndata-1.7-with-dev/train/lu/lu835.x                                                       95% 26908 - data/fndata-1.7-with-dev/train/lu/lu844.x                                                       95% 26956 - data/fndata-1.7-with-dev/train/lu/lu8543.xm                                                         95% 27004 - data/fndata-1.7-with-dev/train/lu/lu8641.xm                                                         96% 27053 - data/fndata-1.7-with-dev/train/lu/lu8739.xm                                                         96% 27099 - data/fndata-1.7-with-dev/train/lu/lu8795.xm                                                         96% 27149 - data/fndata-1.7-with-dev/train/lu/lu8860.xm                                                         96% 27193 - data/fndata-1.7-with-dev/train/lu/lu8928.xm                                                         97% 27237 - data/fndata-1.7-with-dev/train/lu/lu897.x                                                       97% 27288 - data/fndata-1.7-with-dev/train/lu/lu9020.xm                                                         97% 27336 - data/fndata-1.7-with-dev/train/lu/lu9066.xm                                                         97% 27381 - data/fndata-1.7-with-dev/train/lu/lu9110.xm                                                         97% 27428 - data/fndata-1.7-with-dev/train/lu/lu9181.xm                                                         98% 27475 - data/fndata-1.7-with-dev/train/lu/lu9248.xm                                                         98% 27527 - data/fndata-1.7-with-dev/train/lu/lu9366.xm                                                         98% 27571 - data/fndata-1.7-with-dev/train/lu/lu949.x                                                       98% 27613 - data/fndata-1.7-with-dev/train/lu/lu9626.xm                                                         99% 27655 - data/fndata-1.7-with-dev/train/lu/lu9672.xm                                                         99% 27701 - data/fndata-1.7-with-dev/train/lu/lu9716.xm                                                         99% 27748 - data/fndata-1.7-with-dev/train/lu/lu9776.xm                                                         99% 27791 - data/fndata-1.7-with-dev/train/lu/lu9830.xm                                                         99% 27833 - data/fndata-1.7-with-dev/train/lu/lu9965.xm                                                        Everything is Ok\n",
      "\n",
      "Folders: 19\n",
      "Files: 27835\n",
      "Size:       1411659512\n",
      "Compressed: 79554968\n"
     ]
    }
   ],
   "source": [
    "! 7za x data/data.7z"
   ]
  },
  {
   "cell_type": "code",
   "execution_count": 10,
   "metadata": {},
   "outputs": [
    {
     "name": "stdout",
     "output_type": "stream",
     "text": [
      "/home/fredguth/Code/eacl2017_mtl/rnn_mtl\r\n"
     ]
    }
   ],
   "source": [
    "!pwd"
   ]
  },
  {
   "cell_type": "code",
   "execution_count": 17,
   "metadata": {},
   "outputs": [
    {
     "name": "stderr",
     "output_type": "stream",
     "text": [
      "INFO - Marshalling splits:pyfn.AnnotationSet dict to .bios.semeval for test splits with [] filtering options...\n",
      "INFO - Marshalling splits:pyfn.AnnotationSet dict to .bios.semeval for test splits with [] filtering options...\n",
      "INFO - Marshalling splits:pyfn.AnnotationSet dict to .bios.semeval for test splits with [] filtering options...\n",
      "INFO - Marshalling splits:pyfn.AnnotationSet dict to .bios for test splits with ['overlap_fes'] filtering options...\n",
      "INFO - Marshalling splits:pyfn.AnnotationSet dict to .bios for test splits with ['overlap_fes'] filtering options...\n",
      "INFO - Marshalling splits:pyfn.AnnotationSet dict to .bios for test splits with ['overlap_fes'] filtering options...\n",
      "INFO - Marshalling splits:pyfn.AnnotationSet dict to .bios.semeval for dev splits with [] filtering options...\n",
      "INFO - Marshalling splits:pyfn.AnnotationSet dict to .bios.semeval for dev splits with [] filtering options...\n",
      "INFO - Marshalling splits:pyfn.AnnotationSet dict to .bios.semeval for dev splits with [] filtering options...\n",
      "INFO - Marshalling splits:pyfn.AnnotationSet dict to .bios for dev splits with ['overlap_fes'] filtering options...\n",
      "INFO - Marshalling splits:pyfn.AnnotationSet dict to .bios for dev splits with ['overlap_fes'] filtering options...\n",
      "INFO - Marshalling splits:pyfn.AnnotationSet dict to .bios for dev splits with ['overlap_fes'] filtering options...\n",
      "INFO - Marshalling splits:pyfn.AnnotationSet dict to .bios for train splits with ['overlap_fes'] filtering options...\n",
      "INFO - Marshalling splits:pyfn.AnnotationSet dict to .bios for train splits with ['overlap_fes'] filtering options...\n",
      "INFO - Marshalling splits:pyfn.AnnotationSet dict to .bios for train splits with ['overlap_fes'] filtering options...\n"
     ]
    }
   ],
   "source": [
    "%%bash\n",
    "\n",
    "pyfn convert \\\n",
    "  --from fnxml \\\n",
    "  --to bios \\\n",
    "  --source /home/fredguth/Code/eacl2017_mtl/rnn_mtl/data/fndata-1.5-with-dev \\\n",
    "  --target /home/fredguth/Code/eacl2017_mtl/rnn_mtl/data/ \\\n",
    "  --splits train \\\n",
    "  --output_sentences \\\n",
    "  --filter overlap_fes"
   ]
  },
  {
   "cell_type": "code",
   "execution_count": 16,
   "metadata": {},
   "outputs": [
    {
     "name": "stdout",
     "output_type": "stream",
     "text": [
      "1\tthats\t_\t_\t_\t_\t874\t_\t_\t_\t_\t_\t_\t_\tS-Evaluee\tCore\r\n",
      "2\tfine\t_\t_\t_\t_\t874\t_\t_\t_\t_\t_\tfine.a\tDesirability\tO\t_\r\n",
      "3\t-\t_\t_\t_\t_\t874\t_\t_\t_\t_\t_\t_\t_\tO\t_\r\n",
      "4\twe\t_\t_\t_\t_\t874\t_\t_\t_\t_\t_\t_\t_\tO\t_\r\n",
      "5\tca\t_\t_\t_\t_\t874\t_\t_\t_\t_\t_\t_\t_\tO\t_\r\n",
      "6\tn't\t_\t_\t_\t_\t874\t_\t_\t_\t_\t_\t_\t_\tO\t_\r\n",
      "7\tpay\t_\t_\t_\t_\t874\t_\t_\t_\t_\t_\t_\t_\tO\t_\r\n",
      "8\tthem\t_\t_\t_\t_\t874\t_\t_\t_\t_\t_\t_\t_\tO\t_\r\n",
      "9\tanyway\t_\t_\t_\t_\t874\t_\t_\t_\t_\t_\t_\t_\tO\t_\r\n",
      "\r\n"
     ]
    }
   ],
   "source": [
    "! tail ./data/test.bios"
   ]
  },
  {
   "cell_type": "markdown",
   "metadata": {},
   "source": [
    "## Hyperlinks"
   ]
  },
  {
   "cell_type": "markdown",
   "metadata": {},
   "source": [
    "### What splits?"
   ]
  },
  {
   "cell_type": "code",
   "execution_count": 23,
   "metadata": {},
   "outputs": [
    {
     "name": "stdout",
     "output_type": "stream",
     "text": [
      "--2019-09-11 20:48:55--  https://nlp.stanford.edu/valentin/pubs/markup-data.tar.bz2\n",
      "Resolving nlp.stanford.edu (nlp.stanford.edu)... 171.64.67.140\n",
      "Connecting to nlp.stanford.edu (nlp.stanford.edu)|171.64.67.140|:443... connected.\n",
      "HTTP request sent, awaiting response... 200 OK\n",
      "Length: 27921605 (27M) [application/x-bzip2]\n",
      "Saving to: ‘markup-data.tar.bz2’\n",
      "\n",
      "markup-data.tar.bz2 100%[===================>]  26.63M  4.93MB/s    in 11s     \n",
      "\n",
      "2019-09-11 20:49:08 (2.42 MB/s) - ‘markup-data.tar.bz2’ saved [27921605/27921605]\n",
      "\n"
     ]
    }
   ],
   "source": [
    "! wget https://nlp.stanford.edu/valentin/pubs/markup-data.tar.bz2"
   ]
  },
  {
   "cell_type": "code",
   "execution_count": 24,
   "metadata": {},
   "outputs": [],
   "source": [
    "! mv ./markup-data.tar.bz2 ./data/"
   ]
  },
  {
   "cell_type": "code",
   "execution_count": 26,
   "metadata": {},
   "outputs": [
    {
     "name": "stdout",
     "output_type": "stream",
     "text": [
      "markup-data/\n",
      "markup-data/dp.charniak\n",
      "markup-data/dp.stanford.select\n",
      "markup-data/dp.jmx\n",
      "markup-data/dp.mark\n",
      "markup-data/dp.parsed\n",
      "markup-data/dp.xin\n",
      "markup-data/dp.tagged\n",
      "markup-data/dp.charniak.select\n",
      "markup-data/dp.info.select\n",
      "markup-data/dp.info\n",
      "markup-data/odbl-10.txt\n",
      "markup-data/dp.model.dmv\n",
      "markup-data/dp.xout\n",
      "markup-data/dp.plain\n",
      "markup-data/dp.prep\n",
      "markup-data/LICENSE\n",
      "markup-data/dp.stanford\n",
      "markup-data/README\n",
      "markup-data/dp.raw.stanford\n",
      "markup-data/dp.sent\n"
     ]
    }
   ],
   "source": [
    "! tar -xvjf ./data/markup-data.tar.bz2"
   ]
  },
  {
   "cell_type": "code",
   "execution_count": 27,
   "metadata": {},
   "outputs": [
    {
     "name": "stdout",
     "output_type": "stream",
     "text": [
      "This phrasing signals \"a return to Realpolitik and business-as-usual\" in relations with the Muslim world.\r\n",
      "Bush's \"freedom agenda\" has been in retreat for {a{over for three years}a}; now, with Obama, tyrants can breathe yet more easily.\r\n",
      "Finally, there is the issue of Obama's personal connection to Islam.\r\n",
      "During the campaign, he denounced discussion of his connections to Islam as \"{a{fear-mongering}a},\" and those exploring this subject found themselves {a{vilified}a}.\r\n",
      "He so severely discouraged use of his middle name, {i{Hussein}i}, that {a{John McCain apologized}a} when a warm-up speaker at a campaign event dared mention \"Barack Hussein Obama.\"\r\n",
      "After the election, the rules changed dramatically, with the oath of office administered to \"Barack Hussein Obama\" and the new president {a{volunteering}a}, \"I have Muslim members of my family, I have lived in Muslim countries.\"\r\n",
      "It's bad enough that family connections to Islam perceived as a liability when campaigning are suddenly exploited once in office to win Muslim goodwill.\r\n",
      "Worse, as {a{Diana West}a} observes: \"not since Napoleon has a leader of a Western superpower made so unabashed a political pitch to the people of the Muslim world.\"\r\n",
      "To sum up, while Obama's retreat from democratization marks an unfortunate and major change in policy, his {a{apologetic tone}a} and apparent change in constituency present a yet more fundamental and worrisome direction.\r\n",
      "Barack Obama speaks on Al-Arabiya television channel.\r\n"
     ]
    }
   ],
   "source": [
    "! tail ./markup-data/dp.mark"
   ]
  },
  {
   "cell_type": "markdown",
   "metadata": {},
   "source": [
    "## Keyphrase Detection"
   ]
  },
  {
   "cell_type": "markdown",
   "metadata": {},
   "source": [
    "### https://scienceie.github.io/resources.html Use brat to convert to conll?"
   ]
  },
  {
   "cell_type": "markdown",
   "metadata": {},
   "source": [
    "## Multi-Word Expressions and Supersense tagging"
   ]
  },
  {
   "cell_type": "markdown",
   "metadata": {},
   "source": [
    "### https://github.com/nert-nlp/streusle (different labels)"
   ]
  },
  {
   "cell_type": "markdown",
   "metadata": {},
   "source": [
    "## Supersense Tagging 2 (Reloaded)"
   ]
  },
  {
   "cell_type": "markdown",
   "metadata": {},
   "source": [
    "### Which version? Which splits?"
   ]
  },
  {
   "cell_type": "code",
   "execution_count": 32,
   "metadata": {},
   "outputs": [],
   "source": [
    "from nltk.corpus import semcor"
   ]
  },
  {
   "cell_type": "code",
   "execution_count": 38,
   "metadata": {},
   "outputs": [
    {
     "data": {
      "text/plain": [
       "[['The'],\n",
       " Tree('group.n.01', [Tree('NE', ['Fulton', 'County', 'Grand', 'Jury'])]),\n",
       " Tree('say.v.01', ['said']),\n",
       " Tree('friday.n.01', ['Friday']),\n",
       " ['an'],\n",
       " Tree('investigation.n.01', ['investigation']),\n",
       " ['of'],\n",
       " Tree('atlanta.n.01', ['Atlanta']),\n",
       " [\"'s\"],\n",
       " Tree('recent.s.02', ['recent']),\n",
       " Tree('primary_election.n.01', ['primary', 'election']),\n",
       " Tree('produce.v.04', ['produced']),\n",
       " ['``'],\n",
       " ['no'],\n",
       " Tree('evidence.n.01', ['evidence']),\n",
       " [\"''\"],\n",
       " ['that'],\n",
       " ['any'],\n",
       " Tree('irregularity.n.01', ['irregularities']),\n",
       " Tree('take_place.v.01', ['took', 'place']),\n",
       " ['.']]"
      ]
     },
     "execution_count": 38,
     "metadata": {},
     "output_type": "execute_result"
    }
   ],
   "source": [
    "semcor.tagged_sents(tag=\"sem\")[0]"
   ]
  }
 ],
 "metadata": {
  "kernelspec": {
   "display_name": "Python 3",
   "language": "python",
   "name": "python3"
  },
  "language_info": {
   "codemirror_mode": {
    "name": "ipython",
    "version": 3
   },
   "file_extension": ".py",
   "mimetype": "text/x-python",
   "name": "python",
   "nbconvert_exporter": "python",
   "pygments_lexer": "ipython3",
   "version": "3.7.4"
  }
 },
 "nbformat": 4,
 "nbformat_minor": 2
}
