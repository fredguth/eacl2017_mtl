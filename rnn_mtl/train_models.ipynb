{
 "cells": [
  {
   "cell_type": "code",
   "execution_count": 5,
   "metadata": {},
   "outputs": [
    {
     "name": "stdout",
     "output_type": "stream",
     "text": [
      "The autoreload extension is already loaded. To reload it, use:\n",
      "  %reload_ext autoreload\n"
     ]
    }
   ],
   "source": [
    "%load_ext autoreload\n",
    "%autoreload"
   ]
  },
  {
   "cell_type": "code",
   "execution_count": 6,
   "metadata": {},
   "outputs": [
    {
     "data": {
      "text/plain": [
       "'1.14.0'"
      ]
     },
     "execution_count": 6,
     "metadata": {},
     "output_type": "execute_result"
    }
   ],
   "source": [
    "import tensorflow as tf\n",
    "tf.__version__"
   ]
  },
  {
   "cell_type": "code",
   "execution_count": 44,
   "metadata": {
    "scrolled": true
   },
   "outputs": [
    {
     "name": "stdout",
     "output_type": "stream",
     "text": [
      "exps/ccg\n",
      "WARNING: Logging before flag parsing goes to stderr.\n",
      "W0911 22:53:03.065455 140567486875456 deprecation_wrapper.py:119] From /home/fredguth/Code/eacl2017_mtl/rnn_mtl/src/mtl_model.py:5: The name tf.train.RMSPropOptimizer is deprecated. Please use tf.compat.v1.train.RMSPropOptimizer instead.\n",
      "\n",
      "W0911 22:53:03.065652 140567486875456 deprecation_wrapper.py:119] From /home/fredguth/Code/eacl2017_mtl/rnn_mtl/src/mtl_model.py:6: The name tf.train.AdadeltaOptimizer is deprecated. Please use tf.compat.v1.train.AdadeltaOptimizer instead.\n",
      "\n",
      "W0911 22:53:03.065736 140567486875456 deprecation_wrapper.py:119] From /home/fredguth/Code/eacl2017_mtl/rnn_mtl/src/mtl_model.py:7: The name tf.train.AdagradOptimizer is deprecated. Please use tf.compat.v1.train.AdagradOptimizer instead.\n",
      "\n",
      "W0911 22:53:03.065813 140567486875456 deprecation_wrapper.py:119] From /home/fredguth/Code/eacl2017_mtl/rnn_mtl/src/mtl_model.py:8: The name tf.train.MomentumOptimizer is deprecated. Please use tf.compat.v1.train.MomentumOptimizer instead.\n",
      "\n",
      "hey\n",
      "readings tasks\n",
      "Loading embeddings... Done!\n",
      "Reading data... Done!\n",
      "W0911 22:53:29.830582 140567486875456 deprecation_wrapper.py:119] From src/experiment.py:365: The name tf.Session is deprecated. Please use tf.compat.v1.Session instead.\n",
      "\n",
      "2019-09-11 22:53:29.839182: I tensorflow/stream_executor/platform/default/dso_loader.cc:42] Successfully opened dynamic library libcuda.so.1\n",
      "2019-09-11 22:53:29.864478: I tensorflow/stream_executor/cuda/cuda_gpu_executor.cc:1005] successful NUMA node read from SysFS had negative value (-1), but there must be at least one NUMA node, so returning NUMA node zero\n",
      "2019-09-11 22:53:29.865261: I tensorflow/core/common_runtime/gpu/gpu_device.cc:1640] Found device 0 with properties: \n",
      "name: GeForce GTX 1080 Ti major: 6 minor: 1 memoryClockRate(GHz): 1.6705\n",
      "pciBusID: 0000:01:00.0\n",
      "2019-09-11 22:53:29.865422: I tensorflow/stream_executor/platform/default/dso_loader.cc:42] Successfully opened dynamic library libcudart.so.10.1\n",
      "2019-09-11 22:53:29.866606: I tensorflow/stream_executor/platform/default/dso_loader.cc:42] Successfully opened dynamic library libcublas.so.10\n",
      "2019-09-11 22:53:29.867620: I tensorflow/stream_executor/platform/default/dso_loader.cc:42] Successfully opened dynamic library libcufft.so.10\n",
      "2019-09-11 22:53:29.867800: I tensorflow/stream_executor/platform/default/dso_loader.cc:42] Successfully opened dynamic library libcurand.so.10\n",
      "2019-09-11 22:53:29.868810: I tensorflow/stream_executor/platform/default/dso_loader.cc:42] Successfully opened dynamic library libcusolver.so.10\n",
      "2019-09-11 22:53:29.869336: I tensorflow/stream_executor/platform/default/dso_loader.cc:42] Successfully opened dynamic library libcusparse.so.10\n",
      "2019-09-11 22:53:29.871614: I tensorflow/stream_executor/platform/default/dso_loader.cc:42] Successfully opened dynamic library libcudnn.so.7\n",
      "2019-09-11 22:53:29.871723: I tensorflow/stream_executor/cuda/cuda_gpu_executor.cc:1005] successful NUMA node read from SysFS had negative value (-1), but there must be at least one NUMA node, so returning NUMA node zero\n",
      "2019-09-11 22:53:29.872456: I tensorflow/stream_executor/cuda/cuda_gpu_executor.cc:1005] successful NUMA node read from SysFS had negative value (-1), but there must be at least one NUMA node, so returning NUMA node zero\n",
      "2019-09-11 22:53:29.873109: I tensorflow/core/common_runtime/gpu/gpu_device.cc:1763] Adding visible gpu devices: 0\n",
      "2019-09-11 22:53:29.873333: I tensorflow/core/platform/cpu_feature_guard.cc:142] Your CPU supports instructions that this TensorFlow binary was not compiled to use: SSE4.1 SSE4.2 AVX AVX2 FMA\n",
      "2019-09-11 22:53:29.895290: I tensorflow/core/platform/profile_utils/cpu_utils.cc:94] CPU Frequency: 3599895000 Hz\n",
      "2019-09-11 22:53:29.895758: I tensorflow/compiler/xla/service/service.cc:168] XLA service 0x564016820750 executing computations on platform Host. Devices:\n",
      "2019-09-11 22:53:29.895786: I tensorflow/compiler/xla/service/service.cc:175]   StreamExecutor device (0): <undefined>, <undefined>\n",
      "2019-09-11 22:53:29.896029: I tensorflow/stream_executor/cuda/cuda_gpu_executor.cc:1005] successful NUMA node read from SysFS had negative value (-1), but there must be at least one NUMA node, so returning NUMA node zero\n",
      "2019-09-11 22:53:29.897234: I tensorflow/core/common_runtime/gpu/gpu_device.cc:1640] Found device 0 with properties: \n",
      "name: GeForce GTX 1080 Ti major: 6 minor: 1 memoryClockRate(GHz): 1.6705\n",
      "pciBusID: 0000:01:00.0\n",
      "2019-09-11 22:53:29.897287: I tensorflow/stream_executor/platform/default/dso_loader.cc:42] Successfully opened dynamic library libcudart.so.10.1\n",
      "2019-09-11 22:53:29.897309: I tensorflow/stream_executor/platform/default/dso_loader.cc:42] Successfully opened dynamic library libcublas.so.10\n",
      "2019-09-11 22:53:29.897324: I tensorflow/stream_executor/platform/default/dso_loader.cc:42] Successfully opened dynamic library libcufft.so.10\n",
      "2019-09-11 22:53:29.897338: I tensorflow/stream_executor/platform/default/dso_loader.cc:42] Successfully opened dynamic library libcurand.so.10\n",
      "2019-09-11 22:53:29.897352: I tensorflow/stream_executor/platform/default/dso_loader.cc:42] Successfully opened dynamic library libcusolver.so.10\n",
      "2019-09-11 22:53:29.897366: I tensorflow/stream_executor/platform/default/dso_loader.cc:42] Successfully opened dynamic library libcusparse.so.10\n",
      "2019-09-11 22:53:29.897380: I tensorflow/stream_executor/platform/default/dso_loader.cc:42] Successfully opened dynamic library libcudnn.so.7\n",
      "2019-09-11 22:53:29.897480: I tensorflow/stream_executor/cuda/cuda_gpu_executor.cc:1005] successful NUMA node read from SysFS had negative value (-1), but there must be at least one NUMA node, so returning NUMA node zero\n",
      "2019-09-11 22:53:29.898718: I tensorflow/stream_executor/cuda/cuda_gpu_executor.cc:1005] successful NUMA node read from SysFS had negative value (-1), but there must be at least one NUMA node, so returning NUMA node zero\n",
      "2019-09-11 22:53:29.899883: I tensorflow/core/common_runtime/gpu/gpu_device.cc:1763] Adding visible gpu devices: 0\n",
      "2019-09-11 22:53:29.899929: I tensorflow/stream_executor/platform/default/dso_loader.cc:42] Successfully opened dynamic library libcudart.so.10.1\n",
      "2019-09-11 22:53:29.970599: I tensorflow/core/common_runtime/gpu/gpu_device.cc:1181] Device interconnect StreamExecutor with strength 1 edge matrix:\n",
      "2019-09-11 22:53:29.970623: I tensorflow/core/common_runtime/gpu/gpu_device.cc:1187]      0 \n",
      "2019-09-11 22:53:29.970639: I tensorflow/core/common_runtime/gpu/gpu_device.cc:1200] 0:   N \n",
      "2019-09-11 22:53:29.971187: I tensorflow/stream_executor/cuda/cuda_gpu_executor.cc:1005] successful NUMA node read from SysFS had negative value (-1), but there must be at least one NUMA node, so returning NUMA node zero\n",
      "2019-09-11 22:53:29.971859: I tensorflow/stream_executor/cuda/cuda_gpu_executor.cc:1005] successful NUMA node read from SysFS had negative value (-1), but there must be at least one NUMA node, so returning NUMA node zero\n",
      "2019-09-11 22:53:29.972506: I tensorflow/stream_executor/cuda/cuda_gpu_executor.cc:1005] successful NUMA node read from SysFS had negative value (-1), but there must be at least one NUMA node, so returning NUMA node zero\n",
      "2019-09-11 22:53:29.973121: I tensorflow/core/common_runtime/gpu/gpu_device.cc:1326] Created TensorFlow device (/job:localhost/replica:0/task:0/device:GPU:0 with 8811 MB memory) -> physical GPU (device: 0, name: GeForce GTX 1080 Ti, pci bus id: 0000:01:00.0, compute capability: 6.1)\n",
      "2019-09-11 22:53:29.974334: I tensorflow/compiler/xla/service/service.cc:168] XLA service 0x564019b79d50 executing computations on platform CUDA. Devices:\n",
      "2019-09-11 22:53:29.974349: I tensorflow/compiler/xla/service/service.cc:175]   StreamExecutor device (0): GeForce GTX 1080 Ti, Compute Capability 6.1\n",
      "\n",
      "Input vectors are of length 399546\n",
      "W0911 22:53:29.983788 140567486875456 deprecation_wrapper.py:119] From /home/fredguth/Code/eacl2017_mtl/rnn_mtl/src/mtl_model.py:261: The name tf.placeholder is deprecated. Please use tf.compat.v1.placeholder instead.\n",
      "\n",
      "=====================================\n",
      "Creating trainable embedding layer initialized with provided pretrained embeddings.\n",
      "W0911 22:53:29.987359 140567486875456 deprecation_wrapper.py:119] From /home/fredguth/Code/eacl2017_mtl/rnn_mtl/src/mtl_model.py:286: The name tf.get_variable is deprecated. Please use tf.compat.v1.get_variable instead.\n",
      "\n"
     ]
    },
    {
     "name": "stdout",
     "output_type": "stream",
     "text": [
      "Creating stacked biLSTM of 1 layers with 100 hidden units.\n",
      "W0911 22:53:31.276975 140567486875456 deprecation_wrapper.py:119] From /home/fredguth/Code/eacl2017_mtl/rnn_mtl/src/mtl_model.py:313: The name tf.variable_scope is deprecated. Please use tf.compat.v1.variable_scope instead.\n",
      "\n",
      "W0911 22:53:31.278006 140567486875456 deprecation.py:323] From /home/fredguth/Code/eacl2017_mtl/rnn_mtl/src/mtl_model.py:43: BasicLSTMCell.__init__ (from tensorflow.python.ops.rnn_cell_impl) is deprecated and will be removed in a future version.\n",
      "Instructions for updating:\n",
      "This class is equivalent as tf.keras.layers.LSTMCell, and will be replaced by that in Tensorflow 2.0.\n",
      "W0911 22:53:31.278786 140567486875456 deprecation.py:323] From /home/fredguth/Code/eacl2017_mtl/rnn_mtl/src/mtl_model.py:62: bidirectional_dynamic_rnn (from tensorflow.python.ops.rnn) is deprecated and will be removed in a future version.\n",
      "Instructions for updating:\n",
      "Please use `keras.layers.Bidirectional(keras.layers.RNN(cell))`, which is equivalent to this API\n",
      "W0911 22:53:31.278998 140567486875456 deprecation.py:323] From /home/fredguth/anaconda3/envs/tf/lib/python3.7/site-packages/tensorflow/python/ops/rnn.py:464: dynamic_rnn (from tensorflow.python.ops.rnn) is deprecated and will be removed in a future version.\n",
      "Instructions for updating:\n",
      "Please use `keras.layers.RNN(cell)`, which is equivalent to this API\n",
      "Traceback (most recent call last):\n",
      "  File \"src/experiment.py\", line 421, in <module>\n",
      "    main(_args)\n",
      "  File \"src/experiment.py\", line 366, in main\n",
      "    model = create_model(session, task_cfgs, data, embed_matrix, args)\n",
      "  File \"src/experiment.py\", line 32, in create_model\n",
      "    pretrained_embeddings=embed_matrix)\n",
      "  File \"/home/fredguth/Code/eacl2017_mtl/rnn_mtl/src/mtl_model.py\", line 317, in __init__\n",
      "    activation, dropout_rate)\n",
      "  File \"/home/fredguth/Code/eacl2017_mtl/rnn_mtl/src/mtl_model.py\", line 62, in bilstm\n",
      "    sequence_length=sequence_lengths)\n",
      "  File \"/home/fredguth/anaconda3/envs/tf/lib/python3.7/site-packages/tensorflow/python/util/deprecation.py\", line 324, in new_func\n",
      "    return func(*args, **kwargs)\n",
      "  File \"/home/fredguth/anaconda3/envs/tf/lib/python3.7/site-packages/tensorflow/python/ops/rnn.py\", line 464, in bidirectional_dynamic_rnn\n",
      "    scope=fw_scope)\n",
      "  File \"/home/fredguth/anaconda3/envs/tf/lib/python3.7/site-packages/tensorflow/python/util/deprecation.py\", line 324, in new_func\n",
      "    return func(*args, **kwargs)\n",
      "  File \"/home/fredguth/anaconda3/envs/tf/lib/python3.7/site-packages/tensorflow/python/ops/rnn.py\", line 707, in dynamic_rnn\n",
      "    dtype=dtype)\n",
      "  File \"/home/fredguth/anaconda3/envs/tf/lib/python3.7/site-packages/tensorflow/python/ops/rnn.py\", line 774, in _dynamic_rnn_loop\n",
      "    input_.get_shape().with_rank_at_least(3) for input_ in flat_input)\n",
      "  File \"/home/fredguth/anaconda3/envs/tf/lib/python3.7/site-packages/tensorflow/python/ops/rnn.py\", line 774, in <genexpr>\n",
      "    input_.get_shape().with_rank_at_least(3) for input_ in flat_input)\n",
      "  File \"/home/fredguth/anaconda3/envs/tf/lib/python3.7/site-packages/tensorflow/python/framework/tensor_shape.py\", line 1020, in with_rank_at_least\n",
      "    raise ValueError(\"Shape %s must have rank at least %d\" % (self, rank))\n",
      "ValueError: Shape (100, 32) must have rank at least 3\n"
     ]
    }
   ],
   "source": [
    "! bash run.sh ccg 1 50000"
   ]
  },
  {
   "cell_type": "code",
   "execution_count": 13,
   "metadata": {},
   "outputs": [
    {
     "ename": "NameError",
     "evalue": "name 'embed_matrix' is not defined",
     "output_type": "error",
     "traceback": [
      "\u001b[0;31m---------------------------------------------------------------------------\u001b[0m",
      "\u001b[0;31mNameError\u001b[0m                                 Traceback (most recent call last)",
      "\u001b[0;32m<ipython-input-13-c1a8c04b85e4>\u001b[0m in \u001b[0;36m<module>\u001b[0;34m\u001b[0m\n\u001b[0;32m----> 1\u001b[0;31m \u001b[0membed_matrix\u001b[0m\u001b[0;34m\u001b[0m\u001b[0;34m\u001b[0m\u001b[0m\n\u001b[0m",
      "\u001b[0;31mNameError\u001b[0m: name 'embed_matrix' is not defined"
     ]
    }
   ],
   "source": [
    "embed_matrix"
   ]
  },
  {
   "cell_type": "code",
   "execution_count": 9,
   "metadata": {},
   "outputs": [
    {
     "name": "stderr",
     "output_type": "stream",
     "text": [
      "WARNING: Logging before flag parsing goes to stderr.\n",
      "E0911 20:13:12.410415 139988718135104 interactiveshell.py:1184] No traceback has been produced, nothing to debug.\n"
     ]
    }
   ],
   "source": [
    "%debug"
   ]
  },
  {
   "cell_type": "code",
   "execution_count": 11,
   "metadata": {},
   "outputs": [
    {
     "ename": "NameError",
     "evalue": "name 'embed_matrix' is not defined",
     "output_type": "error",
     "traceback": [
      "\u001b[0;31m---------------------------------------------------------------------------\u001b[0m",
      "\u001b[0;31mNameError\u001b[0m                                 Traceback (most recent call last)",
      "\u001b[0;32m<ipython-input-11-c1a8c04b85e4>\u001b[0m in \u001b[0;36m<module>\u001b[0;34m\u001b[0m\n\u001b[0;32m----> 1\u001b[0;31m \u001b[0membed_matrix\u001b[0m\u001b[0;34m\u001b[0m\u001b[0;34m\u001b[0m\u001b[0m\n\u001b[0m",
      "\u001b[0;31mNameError\u001b[0m: name 'embed_matrix' is not defined"
     ]
    }
   ],
   "source": [
    "embed_matrix"
   ]
  },
  {
   "cell_type": "code",
   "execution_count": null,
   "metadata": {},
   "outputs": [],
   "source": [
    "import numpy as np\n",
    "\n",
    "special_tokens = [\"<PAD>\", \"<EOS>\", \"<GO>\", \"<OOV>\"]\n",
    "embeddings = []\n",
    "\n",
    "for token in special_tokens:\n",
    "    embeddings.append((np.random.rand(100) - 0.5)/10)\n",
    "embeddings"
   ]
  },
  {
   "cell_type": "code",
   "execution_count": null,
   "metadata": {},
   "outputs": [],
   "source": [
    "l = embeddings[0].tolist(); l\n",
    "ll = ['{:.5f}'.format(x) for x in l]; ll\n",
    "\" \".join(ll)"
   ]
  },
  {
   "cell_type": "code",
   "execution_count": null,
   "metadata": {},
   "outputs": [],
   "source": [
    "lines = []\n",
    "for idx, token in enumerate(special_tokens):\n",
    "        l = embeddings[idx].tolist()\n",
    "        ll = ['{:.5f}'.format(x) for x in l]\n",
    "        lines.append(f'{token} {\" \".join(ll)}')\n",
    "output = \"\\n\".join(lines)"
   ]
  },
  {
   "cell_type": "code",
   "execution_count": null,
   "metadata": {},
   "outputs": [],
   "source": [
    "with open(\"special_embs.txt\", \"w\") as file:\n",
    "    file.write(output)\n",
    "    "
   ]
  },
  {
   "cell_type": "code",
   "execution_count": null,
   "metadata": {},
   "outputs": [],
   "source": [
    "np.set_printoptions(precision=5)\n",
    "print(embeddings[3])"
   ]
  },
  {
   "cell_type": "code",
   "execution_count": null,
   "metadata": {},
   "outputs": [],
   "source": []
  }
 ],
 "metadata": {
  "kernelspec": {
   "display_name": "Python 3",
   "language": "python",
   "name": "python3"
  },
  "language_info": {
   "codemirror_mode": {
    "name": "ipython",
    "version": 3
   },
   "file_extension": ".py",
   "mimetype": "text/x-python",
   "name": "python",
   "nbconvert_exporter": "python",
   "pygments_lexer": "ipython3",
   "version": "3.7.4"
  }
 },
 "nbformat": 4,
 "nbformat_minor": 2
}
