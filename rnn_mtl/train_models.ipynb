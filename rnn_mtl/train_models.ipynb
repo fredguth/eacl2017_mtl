{
 "cells": [
  {
   "cell_type": "code",
   "execution_count": 5,
   "metadata": {},
   "outputs": [
    {
     "name": "stdout",
     "output_type": "stream",
     "text": [
      "The autoreload extension is already loaded. To reload it, use:\n",
      "  %reload_ext autoreload\n"
     ]
    }
   ],
   "source": [
    "%load_ext autoreload\n",
    "%autoreload"
   ]
  },
  {
   "cell_type": "code",
   "execution_count": 6,
   "metadata": {},
   "outputs": [
    {
     "data": {
      "text/plain": [
       "'1.14.0'"
      ]
     },
     "execution_count": 6,
     "metadata": {},
     "output_type": "execute_result"
    }
   ],
   "source": [
    "import tensorflow as tf\n",
    "tf.__version__"
   ]
  },
  {
   "cell_type": "code",
   "execution_count": 42,
   "metadata": {
    "scrolled": true
   },
   "outputs": [
    {
     "name": "stdout",
     "output_type": "stream",
     "text": [
      "exps/ccg\n",
      "WARNING: Logging before flag parsing goes to stderr.\n",
      "W0911 22:09:15.255137 139653145306944 deprecation_wrapper.py:119] From /home/fredguth/Code/eacl2017_mtl/rnn_mtl/src/mtl_model.py:5: The name tf.train.RMSPropOptimizer is deprecated. Please use tf.compat.v1.train.RMSPropOptimizer instead.\n",
      "\n",
      "W0911 22:09:15.255334 139653145306944 deprecation_wrapper.py:119] From /home/fredguth/Code/eacl2017_mtl/rnn_mtl/src/mtl_model.py:6: The name tf.train.AdadeltaOptimizer is deprecated. Please use tf.compat.v1.train.AdadeltaOptimizer instead.\n",
      "\n",
      "W0911 22:09:15.255429 139653145306944 deprecation_wrapper.py:119] From /home/fredguth/Code/eacl2017_mtl/rnn_mtl/src/mtl_model.py:7: The name tf.train.AdagradOptimizer is deprecated. Please use tf.compat.v1.train.AdagradOptimizer instead.\n",
      "\n",
      "W0911 22:09:15.255515 139653145306944 deprecation_wrapper.py:119] From /home/fredguth/Code/eacl2017_mtl/rnn_mtl/src/mtl_model.py:8: The name tf.train.MomentumOptimizer is deprecated. Please use tf.compat.v1.train.MomentumOptimizer instead.\n",
      "\n",
      "hey\n",
      "readings tasks\n",
      "Loading embeddings... Done!\n",
      "Reading data... Done!\n",
      "W0911 22:09:43.601146 139653145306944 deprecation_wrapper.py:119] From src/experiment.py:365: The name tf.Session is deprecated. Please use tf.compat.v1.Session instead.\n",
      "\n",
      "2019-09-11 22:09:43.610164: I tensorflow/stream_executor/platform/default/dso_loader.cc:42] Successfully opened dynamic library libcuda.so.1\n",
      "2019-09-11 22:09:43.635240: I tensorflow/stream_executor/cuda/cuda_gpu_executor.cc:1005] successful NUMA node read from SysFS had negative value (-1), but there must be at least one NUMA node, so returning NUMA node zero\n",
      "2019-09-11 22:09:43.636017: I tensorflow/core/common_runtime/gpu/gpu_device.cc:1640] Found device 0 with properties: \n",
      "name: GeForce GTX 1080 Ti major: 6 minor: 1 memoryClockRate(GHz): 1.6705\n",
      "pciBusID: 0000:01:00.0\n",
      "2019-09-11 22:09:43.636191: I tensorflow/stream_executor/platform/default/dso_loader.cc:42] Successfully opened dynamic library libcudart.so.10.1\n",
      "2019-09-11 22:09:43.637428: I tensorflow/stream_executor/platform/default/dso_loader.cc:42] Successfully opened dynamic library libcublas.so.10\n",
      "2019-09-11 22:09:43.638571: I tensorflow/stream_executor/platform/default/dso_loader.cc:42] Successfully opened dynamic library libcufft.so.10\n",
      "2019-09-11 22:09:43.638771: I tensorflow/stream_executor/platform/default/dso_loader.cc:42] Successfully opened dynamic library libcurand.so.10\n",
      "2019-09-11 22:09:43.640010: I tensorflow/stream_executor/platform/default/dso_loader.cc:42] Successfully opened dynamic library libcusolver.so.10\n",
      "2019-09-11 22:09:43.640608: I tensorflow/stream_executor/platform/default/dso_loader.cc:42] Successfully opened dynamic library libcusparse.so.10\n",
      "2019-09-11 22:09:43.643015: I tensorflow/stream_executor/platform/default/dso_loader.cc:42] Successfully opened dynamic library libcudnn.so.7\n",
      "2019-09-11 22:09:43.643147: I tensorflow/stream_executor/cuda/cuda_gpu_executor.cc:1005] successful NUMA node read from SysFS had negative value (-1), but there must be at least one NUMA node, so returning NUMA node zero\n",
      "2019-09-11 22:09:43.643847: I tensorflow/stream_executor/cuda/cuda_gpu_executor.cc:1005] successful NUMA node read from SysFS had negative value (-1), but there must be at least one NUMA node, so returning NUMA node zero\n",
      "2019-09-11 22:09:43.644694: I tensorflow/core/common_runtime/gpu/gpu_device.cc:1763] Adding visible gpu devices: 0\n",
      "2019-09-11 22:09:43.644949: I tensorflow/core/platform/cpu_feature_guard.cc:142] Your CPU supports instructions that this TensorFlow binary was not compiled to use: SSE4.1 SSE4.2 AVX AVX2 FMA\n",
      "2019-09-11 22:09:43.671247: I tensorflow/core/platform/profile_utils/cpu_utils.cc:94] CPU Frequency: 3599895000 Hz\n",
      "2019-09-11 22:09:43.671681: I tensorflow/compiler/xla/service/service.cc:168] XLA service 0x5614f1955c50 executing computations on platform Host. Devices:\n",
      "2019-09-11 22:09:43.671709: I tensorflow/compiler/xla/service/service.cc:175]   StreamExecutor device (0): <undefined>, <undefined>\n",
      "2019-09-11 22:09:43.671912: I tensorflow/stream_executor/cuda/cuda_gpu_executor.cc:1005] successful NUMA node read from SysFS had negative value (-1), but there must be at least one NUMA node, so returning NUMA node zero\n",
      "2019-09-11 22:09:43.672525: I tensorflow/core/common_runtime/gpu/gpu_device.cc:1640] Found device 0 with properties: \n",
      "name: GeForce GTX 1080 Ti major: 6 minor: 1 memoryClockRate(GHz): 1.6705\n",
      "pciBusID: 0000:01:00.0\n",
      "2019-09-11 22:09:43.672569: I tensorflow/stream_executor/platform/default/dso_loader.cc:42] Successfully opened dynamic library libcudart.so.10.1\n",
      "2019-09-11 22:09:43.672581: I tensorflow/stream_executor/platform/default/dso_loader.cc:42] Successfully opened dynamic library libcublas.so.10\n",
      "2019-09-11 22:09:43.672594: I tensorflow/stream_executor/platform/default/dso_loader.cc:42] Successfully opened dynamic library libcufft.so.10\n",
      "2019-09-11 22:09:43.672612: I tensorflow/stream_executor/platform/default/dso_loader.cc:42] Successfully opened dynamic library libcurand.so.10\n",
      "2019-09-11 22:09:43.672630: I tensorflow/stream_executor/platform/default/dso_loader.cc:42] Successfully opened dynamic library libcusolver.so.10\n",
      "2019-09-11 22:09:43.672649: I tensorflow/stream_executor/platform/default/dso_loader.cc:42] Successfully opened dynamic library libcusparse.so.10\n",
      "2019-09-11 22:09:43.672667: I tensorflow/stream_executor/platform/default/dso_loader.cc:42] Successfully opened dynamic library libcudnn.so.7\n",
      "2019-09-11 22:09:43.672743: I tensorflow/stream_executor/cuda/cuda_gpu_executor.cc:1005] successful NUMA node read from SysFS had negative value (-1), but there must be at least one NUMA node, so returning NUMA node zero\n",
      "2019-09-11 22:09:43.673363: I tensorflow/stream_executor/cuda/cuda_gpu_executor.cc:1005] successful NUMA node read from SysFS had negative value (-1), but there must be at least one NUMA node, so returning NUMA node zero\n",
      "2019-09-11 22:09:43.673919: I tensorflow/core/common_runtime/gpu/gpu_device.cc:1763] Adding visible gpu devices: 0\n",
      "2019-09-11 22:09:43.673952: I tensorflow/stream_executor/platform/default/dso_loader.cc:42] Successfully opened dynamic library libcudart.so.10.1\n",
      "2019-09-11 22:09:43.748090: I tensorflow/core/common_runtime/gpu/gpu_device.cc:1181] Device interconnect StreamExecutor with strength 1 edge matrix:\n",
      "2019-09-11 22:09:43.748118: I tensorflow/core/common_runtime/gpu/gpu_device.cc:1187]      0 \n",
      "2019-09-11 22:09:43.748124: I tensorflow/core/common_runtime/gpu/gpu_device.cc:1200] 0:   N \n",
      "2019-09-11 22:09:43.748598: I tensorflow/stream_executor/cuda/cuda_gpu_executor.cc:1005] successful NUMA node read from SysFS had negative value (-1), but there must be at least one NUMA node, so returning NUMA node zero\n",
      "2019-09-11 22:09:43.749296: I tensorflow/stream_executor/cuda/cuda_gpu_executor.cc:1005] successful NUMA node read from SysFS had negative value (-1), but there must be at least one NUMA node, so returning NUMA node zero\n",
      "2019-09-11 22:09:43.750052: I tensorflow/stream_executor/cuda/cuda_gpu_executor.cc:1005] successful NUMA node read from SysFS had negative value (-1), but there must be at least one NUMA node, so returning NUMA node zero\n",
      "2019-09-11 22:09:43.750741: I tensorflow/core/common_runtime/gpu/gpu_device.cc:1326] Created TensorFlow device (/job:localhost/replica:0/task:0/device:GPU:0 with 8822 MB memory) -> physical GPU (device: 0, name: GeForce GTX 1080 Ti, pci bus id: 0000:01:00.0, compute capability: 6.1)\n",
      "2019-09-11 22:09:43.752448: I tensorflow/compiler/xla/service/service.cc:168] XLA service 0x5614f9932a30 executing computations on platform CUDA. Devices:\n",
      "2019-09-11 22:09:43.752473: I tensorflow/compiler/xla/service/service.cc:175]   StreamExecutor device (0): GeForce GTX 1080 Ti, Compute Capability 6.1\n",
      "\n",
      "Input vectors are of length 399546\n",
      "W0911 22:09:43.763906 139653145306944 deprecation_wrapper.py:119] From /home/fredguth/Code/eacl2017_mtl/rnn_mtl/src/mtl_model.py:261: The name tf.placeholder is deprecated. Please use tf.compat.v1.placeholder instead.\n",
      "\n",
      "=====================================\n",
      "Creating trainable embedding layer initialized with provided pretrained embeddings.\n",
      "W0911 22:09:43.767955 139653145306944 deprecation_wrapper.py:119] From /home/fredguth/Code/eacl2017_mtl/rnn_mtl/src/mtl_model.py:286: The name tf.get_variable is deprecated. Please use tf.compat.v1.get_variable instead.\n",
      "\n"
     ]
    },
    {
     "name": "stdout",
     "output_type": "stream",
     "text": [
      "Creating stacked biLSTM of 1 layers with 100 hidden units.\n",
      "W0911 22:09:45.310466 139653145306944 deprecation_wrapper.py:119] From /home/fredguth/Code/eacl2017_mtl/rnn_mtl/src/mtl_model.py:313: The name tf.variable_scope is deprecated. Please use tf.compat.v1.variable_scope instead.\n",
      "\n",
      "============ ok2 =========== [<tf.Tensor 'layer0/unstack:0' shape=(32, 100) dtype=float32>, <tf.Tensor 'layer0/unstack:1' shape=(32, 100) dtype=float32>, <tf.Tensor 'layer0/unstack:2' shape=(32, 100) dtype=float32>, <tf.Tensor 'layer0/unstack:3' shape=(32, 100) dtype=float32>, <tf.Tensor 'layer0/unstack:4' shape=(32, 100) dtype=float32>, <tf.Tensor 'layer0/unstack:5' shape=(32, 100) dtype=float32>, <tf.Tensor 'layer0/unstack:6' shape=(32, 100) dtype=float32>, <tf.Tensor 'layer0/unstack:7' shape=(32, 100) dtype=float32>, <tf.Tensor 'layer0/unstack:8' shape=(32, 100) dtype=float32>, <tf.Tensor 'layer0/unstack:9' shape=(32, 100) dtype=float32>, <tf.Tensor 'layer0/unstack:10' shape=(32, 100) dtype=float32>, <tf.Tensor 'layer0/unstack:11' shape=(32, 100) dtype=float32>, <tf.Tensor 'layer0/unstack:12' shape=(32, 100) dtype=float32>, <tf.Tensor 'layer0/unstack:13' shape=(32, 100) dtype=float32>, <tf.Tensor 'layer0/unstack:14' shape=(32, 100) dtype=float32>, <tf.Tensor 'layer0/unstack:15' shape=(32, 100) dtype=float32>, <tf.Tensor 'layer0/unstack:16' shape=(32, 100) dtype=float32>, <tf.Tensor 'layer0/unstack:17' shape=(32, 100) dtype=float32>, <tf.Tensor 'layer0/unstack:18' shape=(32, 100) dtype=float32>, <tf.Tensor 'layer0/unstack:19' shape=(32, 100) dtype=float32>, <tf.Tensor 'layer0/unstack:20' shape=(32, 100) dtype=float32>, <tf.Tensor 'layer0/unstack:21' shape=(32, 100) dtype=float32>, <tf.Tensor 'layer0/unstack:22' shape=(32, 100) dtype=float32>, <tf.Tensor 'layer0/unstack:23' shape=(32, 100) dtype=float32>, <tf.Tensor 'layer0/unstack:24' shape=(32, 100) dtype=float32>, <tf.Tensor 'layer0/unstack:25' shape=(32, 100) dtype=float32>, <tf.Tensor 'layer0/unstack:26' shape=(32, 100) dtype=float32>, <tf.Tensor 'layer0/unstack:27' shape=(32, 100) dtype=float32>, <tf.Tensor 'layer0/unstack:28' shape=(32, 100) dtype=float32>, <tf.Tensor 'layer0/unstack:29' shape=(32, 100) dtype=float32>]\n",
      "============ ok3 ===========\n",
      "W0911 22:09:45.337206 139653145306944 deprecation.py:323] From /home/fredguth/Code/eacl2017_mtl/rnn_mtl/src/mtl_model.py:44: BasicLSTMCell.__init__ (from tensorflow.python.ops.rnn_cell_impl) is deprecated and will be removed in a future version.\n",
      "Instructions for updating:\n",
      "This class is equivalent as tf.keras.layers.LSTMCell, and will be replaced by that in Tensorflow 2.0.\n",
      "Traceback (most recent call last):\n",
      "  File \"src/experiment.py\", line 421, in <module>\n",
      "    main(_args)\n",
      "  File \"src/experiment.py\", line 366, in main\n",
      "    model = create_model(session, task_cfgs, data, embed_matrix, args)\n",
      "  File \"src/experiment.py\", line 32, in create_model\n",
      "    pretrained_embeddings=embed_matrix)\n",
      "  File \"/home/fredguth/Code/eacl2017_mtl/rnn_mtl/src/mtl_model.py\", line 317, in __init__\n",
      "    activation, dropout_rate)\n",
      "  File \"/home/fredguth/Code/eacl2017_mtl/rnn_mtl/src/mtl_model.py\", line 58, in bilstm\n",
      "    outputs, _, _ = tf.nn.bidirectional_rnn(cell_fw, cell_bw, input_ops,\n",
      "  File \"/home/fredguth/anaconda3/envs/tf/lib/python3.7/site-packages/tensorflow/python/util/deprecation_wrapper.py\", line 106, in __getattr__\n",
      "    attr = getattr(self._dw_wrapped_module, name)\n",
      "AttributeError: module 'tensorflow._api.v1.nn' has no attribute 'bidirectional_rnn'\n"
     ]
    }
   ],
   "source": [
    "! bash run.sh ccg 1 50000"
   ]
  },
  {
   "cell_type": "code",
   "execution_count": 13,
   "metadata": {},
   "outputs": [
    {
     "ename": "NameError",
     "evalue": "name 'embed_matrix' is not defined",
     "output_type": "error",
     "traceback": [
      "\u001b[0;31m---------------------------------------------------------------------------\u001b[0m",
      "\u001b[0;31mNameError\u001b[0m                                 Traceback (most recent call last)",
      "\u001b[0;32m<ipython-input-13-c1a8c04b85e4>\u001b[0m in \u001b[0;36m<module>\u001b[0;34m\u001b[0m\n\u001b[0;32m----> 1\u001b[0;31m \u001b[0membed_matrix\u001b[0m\u001b[0;34m\u001b[0m\u001b[0;34m\u001b[0m\u001b[0m\n\u001b[0m",
      "\u001b[0;31mNameError\u001b[0m: name 'embed_matrix' is not defined"
     ]
    }
   ],
   "source": [
    "embed_matrix"
   ]
  },
  {
   "cell_type": "code",
   "execution_count": 9,
   "metadata": {},
   "outputs": [
    {
     "name": "stderr",
     "output_type": "stream",
     "text": [
      "WARNING: Logging before flag parsing goes to stderr.\n",
      "E0911 20:13:12.410415 139988718135104 interactiveshell.py:1184] No traceback has been produced, nothing to debug.\n"
     ]
    }
   ],
   "source": [
    "%debug"
   ]
  },
  {
   "cell_type": "code",
   "execution_count": 11,
   "metadata": {},
   "outputs": [
    {
     "ename": "NameError",
     "evalue": "name 'embed_matrix' is not defined",
     "output_type": "error",
     "traceback": [
      "\u001b[0;31m---------------------------------------------------------------------------\u001b[0m",
      "\u001b[0;31mNameError\u001b[0m                                 Traceback (most recent call last)",
      "\u001b[0;32m<ipython-input-11-c1a8c04b85e4>\u001b[0m in \u001b[0;36m<module>\u001b[0;34m\u001b[0m\n\u001b[0;32m----> 1\u001b[0;31m \u001b[0membed_matrix\u001b[0m\u001b[0;34m\u001b[0m\u001b[0;34m\u001b[0m\u001b[0m\n\u001b[0m",
      "\u001b[0;31mNameError\u001b[0m: name 'embed_matrix' is not defined"
     ]
    }
   ],
   "source": [
    "embed_matrix"
   ]
  },
  {
   "cell_type": "code",
   "execution_count": null,
   "metadata": {},
   "outputs": [],
   "source": [
    "import numpy as np\n",
    "\n",
    "special_tokens = [\"<PAD>\", \"<EOS>\", \"<GO>\", \"<OOV>\"]\n",
    "embeddings = []\n",
    "\n",
    "for token in special_tokens:\n",
    "    embeddings.append((np.random.rand(100) - 0.5)/10)\n",
    "embeddings"
   ]
  },
  {
   "cell_type": "code",
   "execution_count": null,
   "metadata": {},
   "outputs": [],
   "source": [
    "l = embeddings[0].tolist(); l\n",
    "ll = ['{:.5f}'.format(x) for x in l]; ll\n",
    "\" \".join(ll)"
   ]
  },
  {
   "cell_type": "code",
   "execution_count": null,
   "metadata": {},
   "outputs": [],
   "source": [
    "lines = []\n",
    "for idx, token in enumerate(special_tokens):\n",
    "        l = embeddings[idx].tolist()\n",
    "        ll = ['{:.5f}'.format(x) for x in l]\n",
    "        lines.append(f'{token} {\" \".join(ll)}')\n",
    "output = \"\\n\".join(lines)"
   ]
  },
  {
   "cell_type": "code",
   "execution_count": null,
   "metadata": {},
   "outputs": [],
   "source": [
    "with open(\"special_embs.txt\", \"w\") as file:\n",
    "    file.write(output)\n",
    "    "
   ]
  },
  {
   "cell_type": "code",
   "execution_count": null,
   "metadata": {},
   "outputs": [],
   "source": [
    "np.set_printoptions(precision=5)\n",
    "print(embeddings[3])"
   ]
  },
  {
   "cell_type": "code",
   "execution_count": null,
   "metadata": {},
   "outputs": [],
   "source": []
  }
 ],
 "metadata": {
  "kernelspec": {
   "display_name": "Python 3",
   "language": "python",
   "name": "python3"
  },
  "language_info": {
   "codemirror_mode": {
    "name": "ipython",
    "version": 3
   },
   "file_extension": ".py",
   "mimetype": "text/x-python",
   "name": "python",
   "nbconvert_exporter": "python",
   "pygments_lexer": "ipython3",
   "version": "3.7.4"
  }
 },
 "nbformat": 4,
 "nbformat_minor": 2
}
